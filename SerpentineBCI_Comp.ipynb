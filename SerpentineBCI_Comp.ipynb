{
 "cells": [
  {
   "cell_type": "code",
   "execution_count": 1,
   "metadata": {},
   "outputs": [],
   "source": [
    "# Want to make a plot of the aggregate alpha at different scales and how it changes \n",
    "# in both serpentine and BCI on the same plot"
   ]
  },
  {
   "cell_type": "code",
   "execution_count": 2,
   "metadata": {},
   "outputs": [],
   "source": [
    "# Import\n",
    "import dd_functions as dd\n",
    "import numpy as np\n",
    "import pandas as pd\n",
    "from scipy.optimize import minimize_scalar\n",
    "import scipy.stats as st\n",
    "\n",
    "import matplotlib.pyplot as plt\n",
    "import matplotlib.cm as cm\n",
    "%matplotlib inline"
   ]
  },
  {
   "cell_type": "code",
   "execution_count": 3,
   "metadata": {},
   "outputs": [],
   "source": [
    "# Read in serpentine\n",
    "spd = pd.read_csv('data/Serpentine.csv',dtype='Int64')\n",
    "sn0i = spd.sum().astype('Int64')\n",
    "# Read in bci\n",
    "bci_full = pd.read_csv('../BCI50HA/bci5.txt',sep='\\t')\n",
    "# Trim to only alive species with dbh>100mm\n",
    "bci = bci_full.loc[(bci_full['dbh']>=100)&(bci_full['status']=='A')]"
   ]
  },
  {
   "cell_type": "markdown",
   "metadata": {},
   "source": [
    "# Serpentine"
   ]
  },
  {
   "cell_type": "code",
   "execution_count": 4,
   "metadata": {},
   "outputs": [],
   "source": [
    "# Create fractions\n",
    "# Keep threshold at 128 everywhere\n",
    "th = 128\n",
    "# Divide into 2x2\n",
    "inds4 = (spd.index//128*2+spd.index//8%2)\n",
    "sfr4 = dd.create_f(spd.groupby(inds4).sum().T,thresh=th)\n",
    "# Divide into 2x4\n",
    "inds8 = (spd.index//64*2+spd.index//8%2)\n",
    "sfr8 = dd.create_f(spd.groupby(inds8).sum().T,thresh=th)\n",
    "# Divide into 4x4\n",
    "inds16 = (spd.index//64*4+spd.index//4%4)\n",
    "sfr16 = dd.create_f(spd.groupby(inds16).sum().T,thresh=th)\n",
    "# Divide into 4x8\n",
    "inds32 = (spd.index//32*4+spd.index//4%4)\n",
    "sfr32 = dd.create_f(spd.groupby(inds32).sum().T,thresh=th)\n",
    "# Divide into 8x8\n",
    "inds64 = (spd.index//32*8+spd.index//2%8) # I think this is taking the nearest 4 cells and summing them together\n",
    "sfr64 = dd.create_f(spd.groupby(inds64).sum().T,thresh=th)\n",
    "# Divide into 8x16, so sum adjacent plots then compare.\n",
    "sfr128 = dd.create_f(spd.groupby(spd.index//2).sum().T,thresh=th)\n",
    "# Divide into 16x16\n",
    "sfr256 = dd.create_f(spd.T,thresh=th)"
   ]
  },
  {
   "cell_type": "code",
   "execution_count": 5,
   "metadata": {},
   "outputs": [],
   "source": [
    "# One bisection\n",
    "sal2 = minimize_scalar(dd.loglikelihood,bounds=(0.9,1.1),method='bounded',\n",
    "                args=(spd[0:128].sum().values.astype(int),sn0i))\n",
    "# 2x2\n",
    "sal4 = minimize_scalar(dd.loglikelihood,bounds=(0.8,1.5),method='bounded',\n",
    "                args=(np.rint(sfr4['frac']*sfr4['n0']).astype(int),sfr4['n0']))\n",
    "# 2x4\n",
    "sal8 = minimize_scalar(dd.loglikelihood,bounds=(0.8,1.5),method='bounded',\n",
    "                args=(np.rint(sfr8['frac']*sfr8['n0']).astype(int),sfr8['n0']))\n",
    "# 4x4\n",
    "sal16 = minimize_scalar(dd.loglikelihood,bounds=(0.8,1.5),method='bounded',\n",
    "                args=(np.rint(sfr16['frac']*sfr16['n0']).astype(int),sfr16['n0']))\n",
    "# 4x8\n",
    "sal32 = minimize_scalar(dd.loglikelihood,bounds=(0.8,1.5),method='bounded',\n",
    "                args=(np.rint(sfr32['frac']*sfr32['n0']).astype(int),sfr32['n0']))\n",
    "# 8x8\n",
    "sal64 = minimize_scalar(dd.loglikelihood,bounds=(0.8,1.5),method='bounded',\n",
    "                args=(np.rint(sfr64['frac']*sfr64['n0']).astype(int),sfr64['n0']))\n",
    "# 8x16\n",
    "sal128 = minimize_scalar(dd.loglikelihood,bounds=(0.8,1.5),method='bounded',\n",
    "                args=(np.rint(sfr128['frac']*sfr128['n0']).astype(int),sfr128['n0']))\n",
    "# 16x16\n",
    "sal256 = minimize_scalar(dd.loglikelihood,bounds=(0.8,1.5),method='bounded',\n",
    "                args=(np.rint(sfr256['frac']*sfr256['n0']).astype(int),sfr256['n0']))"
   ]
  },
  {
   "cell_type": "code",
   "execution_count": 6,
   "metadata": {},
   "outputs": [],
   "source": [
    "# This is old before I added in the intermediate points\n",
    "#sal_x = [1.0/2,1.0/4,1.0/64,1.0/128,1.0/256]\n",
    "#sal = [sal2.x,sal4.x,sal64.x,sal128.x,sal256.x]\n",
    "# It's now just this again:\n",
    "sal_x = [1/2**n for n in np.arange(1,9)] \n",
    "sal = [sal2.x,sal4.x,sal8.x,sal16.x,sal32.x,sal64.x,sal128.x,sal256.x]"
   ]
  },
  {
   "cell_type": "markdown",
   "metadata": {},
   "source": [
    "# BCI"
   ]
  },
  {
   "cell_type": "code",
   "execution_count": 7,
   "metadata": {},
   "outputs": [],
   "source": [
    "# 256\n",
    "bi8 = dd.bisect(bci,1000,500,level=8)\n",
    "bfr256 = dd.create_f(bi8,thresh=th)\n",
    "# 128\n",
    "bi7 = dd.bisect(bci,1000,500,level=7)\n",
    "bfr128 = dd.create_f(bi7,thresh=th) \n",
    "# 64\n",
    "bi6 = dd.bisect(bci,1000,500,level=6)\n",
    "bfr64 = dd.create_f(bi6,thresh=th) \n",
    "# 32\n",
    "bi5 = dd.bisect(bci,1000,500,level=5)\n",
    "bfr32 = dd.create_f(bi5,thresh=th) \n",
    "# 16\n",
    "bi4 = dd.bisect(bci,1000,500,level=4)\n",
    "bfr16 = dd.create_f(bi4,thresh=th) \n",
    "# 8\n",
    "bi3 = dd.bisect(bci,1000,500,level=3)\n",
    "bfr8 = dd.create_f(bi3,thresh=th) \n",
    "# 4\n",
    "bi2 = dd.bisect(bci,1000,500,level=2)\n",
    "bfr4 = dd.create_f(bi2,thresh=th) \n",
    "# 2\n",
    "bi1 = dd.bisect(bci,1000,500,level=1)\n",
    "bfr2 = dd.create_f(bi1,thresh=th) \n"
   ]
  },
  {
   "cell_type": "code",
   "execution_count": 8,
   "metadata": {},
   "outputs": [],
   "source": [
    "# 2\n",
    "bal2 = minimize_scalar(dd.loglikelihood,bounds=(0.9,1.3),method='bounded',\n",
    "                args=(np.rint(bfr2['frac']*bfr2['n0']).astype(int),bfr2['n0']))\n",
    "# 4\n",
    "bal4 = minimize_scalar(dd.loglikelihood,bounds=(0.9,1.6),method='bounded',\n",
    "                args=(np.rint(bfr4['frac']*bfr4['n0']).astype(int),bfr4['n0']))\n",
    "# 8\n",
    "bal8 = minimize_scalar(dd.loglikelihood,bounds=(0.9,1.6),method='bounded',\n",
    "                args=(np.rint(bfr8['frac']*bfr8['n0']).astype(int),bfr8['n0']))\n",
    "# 16\n",
    "bal16 = minimize_scalar(dd.loglikelihood,bounds=(0.9,1.6),method='bounded',\n",
    "                args=(np.rint(bfr16['frac']*bfr16['n0']).astype(int),bfr16['n0']))\n",
    "# 32\n",
    "bal32 = minimize_scalar(dd.loglikelihood,bounds=(0.9,1.6),method='bounded',\n",
    "                args=(np.rint(bfr32['frac']*bfr32['n0']).astype(int),bfr32['n0']))\n",
    "# 64\n",
    "bal64 = minimize_scalar(dd.loglikelihood,bounds=(0.9,1.6),method='bounded',\n",
    "                args=(np.rint(bfr64['frac']*bfr64['n0']).astype(int),bfr64['n0']))\n",
    "# 128\n",
    "bal128 = minimize_scalar(dd.loglikelihood,bounds=(0.9,1.6),method='bounded',\n",
    "                args=(np.rint(bfr128['frac']*bfr128['n0']).astype(int),bfr128['n0']))\n",
    "# 256\n",
    "bal256 = minimize_scalar(dd.loglikelihood,bounds=(0.9,1.6),method='bounded',\n",
    "                args=(np.rint(bfr256['frac']*bfr256['n0']).astype(int),bfr256['n0']))"
   ]
  },
  {
   "cell_type": "code",
   "execution_count": 9,
   "metadata": {},
   "outputs": [],
   "source": [
    "bal_x = [1/2**n for n in np.arange(1,9)] \n",
    "bal = [bal2.x,bal4.x,bal8.x,bal16.x,bal32.x,bal64.x,bal128.x,bal256.x]"
   ]
  },
  {
   "cell_type": "markdown",
   "metadata": {},
   "source": [
    "# Plot time!"
   ]
  },
  {
   "cell_type": "code",
   "execution_count": 10,
   "metadata": {},
   "outputs": [
    {
     "data": {
      "image/png": "[encoded data removed]",
      "text/plain": [
       "<Figure size 288x216 with 1 Axes>"
      ]
     },
     "metadata": {
      "needs_background": "light"
     },
     "output_type": "display_data"
    }
   ],
   "source": [
    "fig,ax = plt.subplots(figsize=(4,3))\n",
    "ax.semilogx(sal_x,sal,'v',label='Serpentine')\n",
    "ax.semilogx(bal_x,bal,'o',label='BCI')\n",
    "ax.set_xlabel('Fractional area')\n",
    "ax.set_ylabel(r'$\\alpha$')\n",
    "ax.set_ylim(0.9,1.5)\n",
    "ax.set_xlim(0.0035,1)\n",
    "plt.legend()\n",
    "plt.savefig('AlphaScaling_SerpentineBCI.pdf',bbox_inches='tight')\n",
    "plt.savefig('Manuscript/AlphaScaling_SerpentineBCI.eps',format='eps',bbox_inches='tight')\n",
    "plt.savefig('Manuscript/AlphaScaling_SerpentineBCI.pdf',format='pdf',bbox_inches='tight')\n",
    "plt.show()"
   ]
  },
  {
   "cell_type": "code",
   "execution_count": 12,
   "metadata": {},
   "outputs": [
    {
     "data": {
      "image/png": "[encoded data removed]",
      "text/plain": [
       "<Figure size 288x216 with 1 Axes>"
      ]
     },
     "metadata": {
      "needs_background": "light"
     },
     "output_type": "display_data"
    }
   ],
   "source": [
    "# Make an alternative one with different x axis\n",
    "fig,ax = plt.subplots(figsize=(4,3))\n",
    "alts_x = np.log2(sal_x)\n",
    "altb_x = np.log2(bal_x)\n",
    "ax.plot(alts_x,sal,'v',label='Serpentine')\n",
    "ax.plot(altb_x,bal,'o',label='BCI')\n",
    "ax.set_xlabel(r'$\\log_2($Fractional area)')\n",
    "ax.set_ylabel(r'$\\alpha$')\n",
    "ax.set_ylim(0.9,1.5)\n",
    "#ax.set_xlim(0.0035,1)\n",
    "plt.legend()\n",
    "plt.savefig('AlphaScaling_SerpentineBCI_altx.pdf',bbox_inches='tight')\n",
    "plt.savefig('Manuscript/AlphaScaling_SerpentineBCI_altx.eps',format='eps',bbox_inches='tight')\n",
    "plt.savefig('Manuscript/AlphaScaling_SerpentineBCI_altx.pdf',format='pdf',bbox_inches='tight')\n",
    "plt.show()"
   ]
  },
  {
   "cell_type": "code",
   "execution_count": null,
   "metadata": {},
   "outputs": [],
   "source": []
  }
 ],
 "metadata": {
  "kernelspec": {
   "display_name": "Python 3",
   "language": "python",
   "name": "python3"
  },
  "language_info": {
   "codemirror_mode": {
    "name": "ipython",
    "version": 3
   },
   "file_extension": ".py",
   "mimetype": "text/x-python",
   "name": "python",
   "nbconvert_exporter": "python",
   "pygments_lexer": "ipython3",
   "version": "3.6.8"
  }
 },
 "nbformat": 4,
 "nbformat_minor": 2
}
