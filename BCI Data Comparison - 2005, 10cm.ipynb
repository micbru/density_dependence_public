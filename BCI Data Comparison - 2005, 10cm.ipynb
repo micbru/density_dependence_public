{
 "cells": [
  {
   "cell_type": "code",
   "execution_count": 1,
   "metadata": {},
   "outputs": [],
   "source": [
    "import numpy as np\n",
    "import pandas as pd\n",
    "import scipy.stats as st\n",
    "from scipy.optimize import minimize_scalar\n",
    "import dd_functions as dd\n",
    "\n",
    "import matplotlib.pyplot as plt\n",
    "import matplotlib.cm as cm\n",
    "%matplotlib inline"
   ]
  },
  {
   "cell_type": "code",
   "execution_count": 2,
   "metadata": {},
   "outputs": [],
   "source": [
    "# Don't need these anymore since we have dd_functions working.\n",
    "def dd_prob(n0,alpha):\n",
    "    '''This gives the density dependent probability function for a given n0 and alpha.'''\n",
    "    n = np.arange(n0+1)\n",
    "    # First get the unnormed probability, using binom for large numbers\n",
    "    unnormed = ((n/n0)**alpha+((n0-n)/n0)**alpha)*st.binom.pmf(n, n0, p=0.5)**(alpha-1)\n",
    "    return unnormed/unnormed.sum()"
   ]
  },
  {
   "cell_type": "code",
   "execution_count": 3,
   "metadata": {},
   "outputs": [],
   "source": [
    "# Create bisection function just using indexes\n",
    "def bisect(df,xmax,ymax,level=1,bdir='y',xkey='gx',ykey='gy',skey='sp'):\n",
    "    '''\n",
    "    df = dataframe, where spatial and species information is stored.\n",
    "    level = int, this is how many bisections we want to draw. By default = 1 (one bisection)\n",
    "    bdir = x,y, this tells us which direction to bisect in. By default will bisect y. \n",
    "        By default we will alternate after that (can fix this later if we want)\n",
    "    The maximum x and y coordinates of the dataset\n",
    "        xmax, ymax\n",
    "    The keys to access the spatial data and species data in the dataframe. By default work with BCI dataset\n",
    "        xkey = 'gx' \n",
    "        ykey = 'gy'\n",
    "        skey = 'sp'\n",
    "    '''\n",
    "    # Setup a collection of arrays\n",
    "    df_coll = []\n",
    "    # Really we just need to get the 4 arguments bounding the box\n",
    "    for l in np.arange(2**np.ceil(level/2)):\n",
    "#        print(\"l \",l)\n",
    "        arg_bottom = df[ykey]>ymax/(2**np.ceil(level/2))*l\n",
    "        arg_top = df[ykey]<ymax/(2**np.ceil(level/2))*(l+1)\n",
    "#        print(\"y\",ymax/(2**np.ceil(level/2))*l,ymax/(2**np.ceil(level/2))*(l+1))\n",
    "        if level == 1: # In this case we DON't use arg_left and arg_right\n",
    "            df_coll.append(df[skey].loc[arg_bottom&arg_top].value_counts())\n",
    "        else:\n",
    "            for ll in np.arange(2**np.floor(level/2)):\n",
    "#                print(\"ll \",ll)\n",
    "                arg_left = df[xkey]>xmax/(2**np.floor(level/2))*ll\n",
    "                arg_right = df[xkey]<xmax/(2**np.floor(level/2))*(ll+1)\n",
    "#                print(\"x\",xmax/np.floor(level/2)*ll/2,xmax/np.floor(level/2)*(ll+1)/2)\n",
    "                # Add this to the list!\n",
    "                df_coll.append(df[skey].loc[arg_left&arg_right&arg_bottom&arg_top].value_counts())\n",
    "    df_ret = pd.concat(df_coll,axis=1)\n",
    "    df_ret.columns=[i for i in range(2**level)]\n",
    "    return df_ret"
   ]
  },
  {
   "cell_type": "code",
   "execution_count": 4,
   "metadata": {},
   "outputs": [],
   "source": [
    "# Take the bisected data and calculate fractions\n",
    "def create_f(df,thresh=0):\n",
    "    '''\n",
    "    Take a data frame of bisections and create fraction plots.\n",
    "    The fractions will be taken in the x direction by default, but that can be changed later if I want.\n",
    "        Would have to sum over different indices...\n",
    "    Just to make things easy I'll also include \"thresh\" which is the threshold for number of individuals in a species\n",
    "    I used to remove is there were too many NaN, but that is just removing high and low fractions, which is bad!\n",
    "    '''\n",
    "    if thresh>0:\n",
    "        df_data = df[df.T.sum()>thresh].fillna(0.)\n",
    "    else:\n",
    "        df_data = df.fillna(0.)\n",
    "#    df_data = df.dropna(thresh=thresh).fillna(0.)\n",
    "    # Set up a numpy array to return\n",
    "    ret_data = np.zeros((len(df_data.columns)//2,len(df_data)))\n",
    "    # Create the fractions by summing adjacent cells\n",
    "    for i in range(len(df_data.columns)//2):\n",
    "        ret_data[i] = df_data[2*i]/(df_data[2*i]+df_data[2*i+1])\n",
    "    # Here there is a decision to make re: what are columns and what are indices\n",
    "    # If we are plotting all species on one plot, it makes sense to have columns as data and indices as species labels\n",
    "    # This is what I did here, transposing the data accordingly\n",
    "    # On the other hand, it makes sense to have species labels as columns if we want to plot each species.\n",
    "    # I can change this pretty easily\n",
    "    df_ret = pd.DataFrame(ret_data.T,index=df_data.index,columns=[2*i for i in range(len(df_data.columns)//2)])\n",
    "    return df_ret"
   ]
  },
  {
   "cell_type": "markdown",
   "metadata": {},
   "source": [
    "# Preamble"
   ]
  },
  {
   "cell_type": "code",
   "execution_count": 2,
   "metadata": {},
   "outputs": [],
   "source": [
    "# Read in data\n",
    "bci = pd.read_csv('../BCI50HA/bci5.txt',sep='\\t')\n",
    "# Trim to only alive species\n",
    "bciA1 = bci.loc[bci['status']=='A']\n",
    "# Trim to dbh>10\n",
    "bciA = bci.loc[(bci['dbh']>=100)&(bci['status']=='A')]\n",
    "# Get unique species identifiers\n",
    "spl = bciA['sp'].unique()\n",
    "# Get total number\n",
    "s0 = bciA.sp.nunique() # or len(spl), just showing different syntax\n",
    "s01 = bciA1.sp.nunique()\n",
    "# Get total number of individuals\n",
    "n0 = len(bciA)"
   ]
  },
  {
   "cell_type": "code",
   "execution_count": 3,
   "metadata": {},
   "outputs": [],
   "source": [
    "b10 = dd.bisect(bciA,1000,500,level=1)\n",
    "b1 = dd.bisect(bciA1,1000,500,level=1)\n",
    "\n",
    "f10 = dd.create_f(b10,thresh=0)\n",
    "f1 = dd.create_f(b1,thresh=0)"
   ]
  },
  {
   "cell_type": "code",
   "execution_count": 4,
   "metadata": {},
   "outputs": [
    {
     "data": {
      "text/html": [
       "<div>\n",
       "<style scoped>\n",
       "    .dataframe tbody tr th:only-of-type {\n",
       "        vertical-align: middle;\n",
       "    }\n",
       "\n",
       "    .dataframe tbody tr th {\n",
       "        vertical-align: top;\n",
       "    }\n",
       "\n",
       "    .dataframe thead th {\n",
       "        text-align: right;\n",
       "    }\n",
       "</style>\n",
       "<table border=\"1\" class=\"dataframe\">\n",
       "  <thead>\n",
       "    <tr style=\"text-align: right;\">\n",
       "      <th></th>\n",
       "      <th>sp</th>\n",
       "      <th>frac</th>\n",
       "      <th>n0</th>\n",
       "    </tr>\n",
       "  </thead>\n",
       "  <tbody>\n",
       "    <tr>\n",
       "      <th>0</th>\n",
       "      <td>ACACME</td>\n",
       "      <td>1.000000</td>\n",
       "      <td>2</td>\n",
       "    </tr>\n",
       "    <tr>\n",
       "      <th>1</th>\n",
       "      <td>ACALDI</td>\n",
       "      <td>0.000000</td>\n",
       "      <td>1</td>\n",
       "    </tr>\n",
       "    <tr>\n",
       "      <th>2</th>\n",
       "      <td>ACALMA</td>\n",
       "      <td>0.500000</td>\n",
       "      <td>2</td>\n",
       "    </tr>\n",
       "    <tr>\n",
       "      <th>3</th>\n",
       "      <td>ADE1TR</td>\n",
       "      <td>0.380282</td>\n",
       "      <td>71</td>\n",
       "    </tr>\n",
       "    <tr>\n",
       "      <th>4</th>\n",
       "      <td>AEGIPA</td>\n",
       "      <td>0.611111</td>\n",
       "      <td>18</td>\n",
       "    </tr>\n",
       "    <tr>\n",
       "      <th>5</th>\n",
       "      <td>ALCHCO</td>\n",
       "      <td>0.520548</td>\n",
       "      <td>146</td>\n",
       "    </tr>\n",
       "    <tr>\n",
       "      <th>6</th>\n",
       "      <td>ALCHLA</td>\n",
       "      <td>1.000000</td>\n",
       "      <td>1</td>\n",
       "    </tr>\n",
       "    <tr>\n",
       "      <th>7</th>\n",
       "      <td>ALLOPS</td>\n",
       "      <td>0.571429</td>\n",
       "      <td>28</td>\n",
       "    </tr>\n",
       "    <tr>\n",
       "      <th>8</th>\n",
       "      <td>ALSEBL</td>\n",
       "      <td>0.446463</td>\n",
       "      <td>1046</td>\n",
       "    </tr>\n",
       "    <tr>\n",
       "      <th>9</th>\n",
       "      <td>AMAICO</td>\n",
       "      <td>1.000000</td>\n",
       "      <td>2</td>\n",
       "    </tr>\n",
       "    <tr>\n",
       "      <th>10</th>\n",
       "      <td>ANACEX</td>\n",
       "      <td>0.428571</td>\n",
       "      <td>21</td>\n",
       "    </tr>\n",
       "    <tr>\n",
       "      <th>11</th>\n",
       "      <td>ANDIIN</td>\n",
       "      <td>0.312500</td>\n",
       "      <td>32</td>\n",
       "    </tr>\n",
       "    <tr>\n",
       "      <th>12</th>\n",
       "      <td>ANNOAC</td>\n",
       "      <td>0.000000</td>\n",
       "      <td>1</td>\n",
       "    </tr>\n",
       "    <tr>\n",
       "      <th>13</th>\n",
       "      <td>ANNOSP</td>\n",
       "      <td>0.411765</td>\n",
       "      <td>17</td>\n",
       "    </tr>\n",
       "    <tr>\n",
       "      <th>14</th>\n",
       "      <td>APEIME</td>\n",
       "      <td>0.497561</td>\n",
       "      <td>205</td>\n",
       "    </tr>\n",
       "    <tr>\n",
       "      <th>15</th>\n",
       "      <td>APEITI</td>\n",
       "      <td>0.500000</td>\n",
       "      <td>16</td>\n",
       "    </tr>\n",
       "    <tr>\n",
       "      <th>16</th>\n",
       "      <td>ASPICR</td>\n",
       "      <td>0.368421</td>\n",
       "      <td>57</td>\n",
       "    </tr>\n",
       "    <tr>\n",
       "      <th>17</th>\n",
       "      <td>AST1ST</td>\n",
       "      <td>0.500000</td>\n",
       "      <td>160</td>\n",
       "    </tr>\n",
       "    <tr>\n",
       "      <th>18</th>\n",
       "      <td>AST2GR</td>\n",
       "      <td>0.513514</td>\n",
       "      <td>37</td>\n",
       "    </tr>\n",
       "    <tr>\n",
       "      <th>19</th>\n",
       "      <td>BEILPE</td>\n",
       "      <td>0.229630</td>\n",
       "      <td>270</td>\n",
       "    </tr>\n",
       "    <tr>\n",
       "      <th>20</th>\n",
       "      <td>BROSAL</td>\n",
       "      <td>0.531707</td>\n",
       "      <td>205</td>\n",
       "    </tr>\n",
       "    <tr>\n",
       "      <th>21</th>\n",
       "      <td>CALOLO</td>\n",
       "      <td>0.454545</td>\n",
       "      <td>44</td>\n",
       "    </tr>\n",
       "    <tr>\n",
       "      <th>22</th>\n",
       "      <td>CASEAC</td>\n",
       "      <td>0.642857</td>\n",
       "      <td>14</td>\n",
       "    </tr>\n",
       "    <tr>\n",
       "      <th>23</th>\n",
       "      <td>CASEAR</td>\n",
       "      <td>0.333333</td>\n",
       "      <td>75</td>\n",
       "    </tr>\n",
       "    <tr>\n",
       "      <th>24</th>\n",
       "      <td>CASECO</td>\n",
       "      <td>0.000000</td>\n",
       "      <td>3</td>\n",
       "    </tr>\n",
       "    <tr>\n",
       "      <th>25</th>\n",
       "      <td>CASEGU</td>\n",
       "      <td>1.000000</td>\n",
       "      <td>1</td>\n",
       "    </tr>\n",
       "    <tr>\n",
       "      <th>26</th>\n",
       "      <td>CASESY</td>\n",
       "      <td>0.477273</td>\n",
       "      <td>44</td>\n",
       "    </tr>\n",
       "    <tr>\n",
       "      <th>27</th>\n",
       "      <td>CASSEL</td>\n",
       "      <td>0.463918</td>\n",
       "      <td>97</td>\n",
       "    </tr>\n",
       "    <tr>\n",
       "      <th>28</th>\n",
       "      <td>CAVAPL</td>\n",
       "      <td>0.611111</td>\n",
       "      <td>18</td>\n",
       "    </tr>\n",
       "    <tr>\n",
       "      <th>29</th>\n",
       "      <td>CECRIN</td>\n",
       "      <td>0.421053</td>\n",
       "      <td>342</td>\n",
       "    </tr>\n",
       "    <tr>\n",
       "      <th>...</th>\n",
       "      <td>...</td>\n",
       "      <td>...</td>\n",
       "      <td>...</td>\n",
       "    </tr>\n",
       "    <tr>\n",
       "      <th>199</th>\n",
       "      <td>TALINE</td>\n",
       "      <td>0.000000</td>\n",
       "      <td>1</td>\n",
       "    </tr>\n",
       "    <tr>\n",
       "      <th>200</th>\n",
       "      <td>TALIPR</td>\n",
       "      <td>0.666667</td>\n",
       "      <td>3</td>\n",
       "    </tr>\n",
       "    <tr>\n",
       "      <th>201</th>\n",
       "      <td>TERMAM</td>\n",
       "      <td>0.185185</td>\n",
       "      <td>27</td>\n",
       "    </tr>\n",
       "    <tr>\n",
       "      <th>202</th>\n",
       "      <td>TERMOB</td>\n",
       "      <td>0.738095</td>\n",
       "      <td>42</td>\n",
       "    </tr>\n",
       "    <tr>\n",
       "      <th>203</th>\n",
       "      <td>TET2PA</td>\n",
       "      <td>0.586466</td>\n",
       "      <td>399</td>\n",
       "    </tr>\n",
       "    <tr>\n",
       "      <th>204</th>\n",
       "      <td>TET4JO</td>\n",
       "      <td>0.333333</td>\n",
       "      <td>6</td>\n",
       "    </tr>\n",
       "    <tr>\n",
       "      <th>205</th>\n",
       "      <td>THEOCA</td>\n",
       "      <td>0.363636</td>\n",
       "      <td>11</td>\n",
       "    </tr>\n",
       "    <tr>\n",
       "      <th>206</th>\n",
       "      <td>THEVAH</td>\n",
       "      <td>0.000000</td>\n",
       "      <td>1</td>\n",
       "    </tr>\n",
       "    <tr>\n",
       "      <th>207</th>\n",
       "      <td>TOCOPI</td>\n",
       "      <td>0.800000</td>\n",
       "      <td>5</td>\n",
       "    </tr>\n",
       "    <tr>\n",
       "      <th>208</th>\n",
       "      <td>TRATAS</td>\n",
       "      <td>0.575000</td>\n",
       "      <td>40</td>\n",
       "    </tr>\n",
       "    <tr>\n",
       "      <th>209</th>\n",
       "      <td>TREMMI</td>\n",
       "      <td>0.368421</td>\n",
       "      <td>19</td>\n",
       "    </tr>\n",
       "    <tr>\n",
       "      <th>210</th>\n",
       "      <td>TRI1GI</td>\n",
       "      <td>0.000000</td>\n",
       "      <td>2</td>\n",
       "    </tr>\n",
       "    <tr>\n",
       "      <th>211</th>\n",
       "      <td>TRI2PA</td>\n",
       "      <td>0.433333</td>\n",
       "      <td>90</td>\n",
       "    </tr>\n",
       "    <tr>\n",
       "      <th>212</th>\n",
       "      <td>TRI2TU</td>\n",
       "      <td>0.409377</td>\n",
       "      <td>1429</td>\n",
       "    </tr>\n",
       "    <tr>\n",
       "      <th>213</th>\n",
       "      <td>TRI4GA</td>\n",
       "      <td>0.000000</td>\n",
       "      <td>1</td>\n",
       "    </tr>\n",
       "    <tr>\n",
       "      <th>214</th>\n",
       "      <td>TRIPCU</td>\n",
       "      <td>0.471014</td>\n",
       "      <td>138</td>\n",
       "    </tr>\n",
       "    <tr>\n",
       "      <th>215</th>\n",
       "      <td>TROPRA</td>\n",
       "      <td>0.400000</td>\n",
       "      <td>20</td>\n",
       "    </tr>\n",
       "    <tr>\n",
       "      <th>216</th>\n",
       "      <td>TURPOC</td>\n",
       "      <td>0.428571</td>\n",
       "      <td>42</td>\n",
       "    </tr>\n",
       "    <tr>\n",
       "      <th>217</th>\n",
       "      <td>UNONPI</td>\n",
       "      <td>0.502857</td>\n",
       "      <td>175</td>\n",
       "    </tr>\n",
       "    <tr>\n",
       "      <th>218</th>\n",
       "      <td>VIROSE</td>\n",
       "      <td>0.463327</td>\n",
       "      <td>559</td>\n",
       "    </tr>\n",
       "    <tr>\n",
       "      <th>219</th>\n",
       "      <td>VIROSP</td>\n",
       "      <td>0.846154</td>\n",
       "      <td>26</td>\n",
       "    </tr>\n",
       "    <tr>\n",
       "      <th>220</th>\n",
       "      <td>VIROSU</td>\n",
       "      <td>0.554054</td>\n",
       "      <td>148</td>\n",
       "    </tr>\n",
       "    <tr>\n",
       "      <th>221</th>\n",
       "      <td>VISMBA</td>\n",
       "      <td>1.000000</td>\n",
       "      <td>2</td>\n",
       "    </tr>\n",
       "    <tr>\n",
       "      <th>222</th>\n",
       "      <td>VOCHFE</td>\n",
       "      <td>0.916667</td>\n",
       "      <td>12</td>\n",
       "    </tr>\n",
       "    <tr>\n",
       "      <th>223</th>\n",
       "      <td>XYL1MA</td>\n",
       "      <td>0.849741</td>\n",
       "      <td>193</td>\n",
       "    </tr>\n",
       "    <tr>\n",
       "      <th>224</th>\n",
       "      <td>ZANTBE</td>\n",
       "      <td>0.519685</td>\n",
       "      <td>127</td>\n",
       "    </tr>\n",
       "    <tr>\n",
       "      <th>225</th>\n",
       "      <td>ZANTP1</td>\n",
       "      <td>0.465517</td>\n",
       "      <td>58</td>\n",
       "    </tr>\n",
       "    <tr>\n",
       "      <th>226</th>\n",
       "      <td>ZANTPR</td>\n",
       "      <td>0.310345</td>\n",
       "      <td>29</td>\n",
       "    </tr>\n",
       "    <tr>\n",
       "      <th>227</th>\n",
       "      <td>ZANTSE</td>\n",
       "      <td>1.000000</td>\n",
       "      <td>1</td>\n",
       "    </tr>\n",
       "    <tr>\n",
       "      <th>228</th>\n",
       "      <td>ZUELGU</td>\n",
       "      <td>0.428571</td>\n",
       "      <td>7</td>\n",
       "    </tr>\n",
       "  </tbody>\n",
       "</table>\n",
       "<p>229 rows × 3 columns</p>\n",
       "</div>"
      ],
      "text/plain": [
       "         sp      frac    n0\n",
       "0    ACACME  1.000000     2\n",
       "1    ACALDI  0.000000     1\n",
       "2    ACALMA  0.500000     2\n",
       "3    ADE1TR  0.380282    71\n",
       "4    AEGIPA  0.611111    18\n",
       "5    ALCHCO  0.520548   146\n",
       "6    ALCHLA  1.000000     1\n",
       "7    ALLOPS  0.571429    28\n",
       "8    ALSEBL  0.446463  1046\n",
       "9    AMAICO  1.000000     2\n",
       "10   ANACEX  0.428571    21\n",
       "11   ANDIIN  0.312500    32\n",
       "12   ANNOAC  0.000000     1\n",
       "13   ANNOSP  0.411765    17\n",
       "14   APEIME  0.497561   205\n",
       "15   APEITI  0.500000    16\n",
       "16   ASPICR  0.368421    57\n",
       "17   AST1ST  0.500000   160\n",
       "18   AST2GR  0.513514    37\n",
       "19   BEILPE  0.229630   270\n",
       "20   BROSAL  0.531707   205\n",
       "21   CALOLO  0.454545    44\n",
       "22   CASEAC  0.642857    14\n",
       "23   CASEAR  0.333333    75\n",
       "24   CASECO  0.000000     3\n",
       "25   CASEGU  1.000000     1\n",
       "26   CASESY  0.477273    44\n",
       "27   CASSEL  0.463918    97\n",
       "28   CAVAPL  0.611111    18\n",
       "29   CECRIN  0.421053   342\n",
       "..      ...       ...   ...\n",
       "199  TALINE  0.000000     1\n",
       "200  TALIPR  0.666667     3\n",
       "201  TERMAM  0.185185    27\n",
       "202  TERMOB  0.738095    42\n",
       "203  TET2PA  0.586466   399\n",
       "204  TET4JO  0.333333     6\n",
       "205  THEOCA  0.363636    11\n",
       "206  THEVAH  0.000000     1\n",
       "207  TOCOPI  0.800000     5\n",
       "208  TRATAS  0.575000    40\n",
       "209  TREMMI  0.368421    19\n",
       "210  TRI1GI  0.000000     2\n",
       "211  TRI2PA  0.433333    90\n",
       "212  TRI2TU  0.409377  1429\n",
       "213  TRI4GA  0.000000     1\n",
       "214  TRIPCU  0.471014   138\n",
       "215  TROPRA  0.400000    20\n",
       "216  TURPOC  0.428571    42\n",
       "217  UNONPI  0.502857   175\n",
       "218  VIROSE  0.463327   559\n",
       "219  VIROSP  0.846154    26\n",
       "220  VIROSU  0.554054   148\n",
       "221  VISMBA  1.000000     2\n",
       "222  VOCHFE  0.916667    12\n",
       "223  XYL1MA  0.849741   193\n",
       "224  ZANTBE  0.519685   127\n",
       "225  ZANTP1  0.465517    58\n",
       "226  ZANTPR  0.310345    29\n",
       "227  ZANTSE  1.000000     1\n",
       "228  ZUELGU  0.428571     7\n",
       "\n",
       "[229 rows x 3 columns]"
      ]
     },
     "execution_count": 4,
     "metadata": {},
     "output_type": "execute_result"
    }
   ],
   "source": [
    "f10"
   ]
  },
  {
   "cell_type": "markdown",
   "metadata": {},
   "source": [
    "# Rank Ordered"
   ]
  },
  {
   "cell_type": "code",
   "execution_count": 60,
   "metadata": {},
   "outputs": [
    {
     "data": {
      "text/plain": [
       "<matplotlib.legend.Legend at 0x1a1d872f60>"
      ]
     },
     "execution_count": 60,
     "metadata": {},
     "output_type": "execute_result"
    },
    {
     "data": {
      "image/png": "[encoded data removed]",
      "text/plain": [
       "<Figure size 432x288 with 1 Axes>"
      ]
     },
     "metadata": {},
     "output_type": "display_data"
    }
   ],
   "source": [
    "plt.plot(np.arange(s0),f10['frac'].sort_values(ascending=False),label='dbh>100mm')\n",
    "plt.plot(np.arange(s01),f1['frac'].sort_values(ascending=False),label='dbh>10mm')\n",
    "plt.legend()"
   ]
  },
  {
   "cell_type": "code",
   "execution_count": 62,
   "metadata": {},
   "outputs": [
    {
     "data": {
      "text/plain": [
       "<matplotlib.legend.Legend at 0x1a1b9190f0>"
      ]
     },
     "execution_count": 62,
     "metadata": {},
     "output_type": "execute_result"
    },
    {
     "data": {
      "image/png": "[encoded data removed]",
      "text/plain": [
       "<Figure size 432x288 with 1 Axes>"
      ]
     },
     "metadata": {},
     "output_type": "display_data"
    }
   ],
   "source": [
    "# Correct for different species numbers\n",
    "plt.plot(np.arange(s0)/s0*s01,f10['frac'].sort_values(ascending=False),label='dbh>100mm')\n",
    "plt.plot(np.arange(s01),f1['frac'].sort_values(ascending=False),label='dbh>10mm')\n",
    "plt.legend()"
   ]
  },
  {
   "cell_type": "code",
   "execution_count": 4,
   "metadata": {},
   "outputs": [
    {
     "data": {
      "image/png": "[encoded data removed]",
      "text/plain": [
       "<Figure size 288x216 with 1 Axes>"
      ]
     },
     "metadata": {
      "needs_background": "light"
     },
     "output_type": "display_data"
    }
   ],
   "source": [
    "# For paper showing why rank ordering is bad:\n",
    "\n",
    "# For sampling from an array instead. Don't need to pass max because it can be found.\n",
    "def rs_arr(p,xbounds,state):\n",
    "    while True:\n",
    "        x = state.randint(xbounds[0],xbounds[1]+1)\n",
    "        y = state.rand(1)*p.max()\n",
    "        if y<=p[x]:\n",
    "            return x\n",
    "# Setup colors\n",
    "colors = plt.get_cmap(\"tab10\")\n",
    "        \n",
    "# Plot the bisection data\n",
    "fig,ax = plt.subplots(figsize=(4,3))\n",
    "x = np.arange(s0)+1\n",
    "x2 = np.arange(0,s0+2) # To match up at the end\n",
    "# Data\n",
    "ax.plot(x,f10['frac'].sort_values(ascending=False),'.',c=colors(7),alpha=0.7,label='BCI')\n",
    "\n",
    "# Fits\n",
    "# For each n0, draw a corresponding point from the alpha distribution, then rank order\n",
    "# I think fraction should be in the same order as c_trim, so let's do it that way.\n",
    "dda_multi = np.zeros(s0) # For density dependent\n",
    "bi_multi = np.zeros(s0) # For binomial\n",
    "mete_multi = np.zeros(s0)\n",
    "# Set random seed for variates:\n",
    "rng = np.random.RandomState(1)\n",
    "# Set alpha\n",
    "al = 1.4\n",
    "# Loop for all n0\n",
    "for i,n in enumerate(f10['n0'].values):\n",
    "    prob = dd.dd_prob(n,al)\n",
    "    dda_multi[i] = rs_arr(prob,(0,n),rng)/n\n",
    "    bi_multi[i] = st.binom.rvs(n,p=0.5,random_state=rng)/n\n",
    "    mete_multi[i] = np.random.randint(n+2)/(n+1) # Range is not inclusive\n",
    "bi_args = np.argsort(bi_multi)[::-1]\n",
    "dda_args = np.argsort(dda_multi)[::-1]\n",
    "mete_args = np.argsort(mete_multi)[::-1]\n",
    "bi_multi_ro = np.sort(bi_multi)[::-1]\n",
    "dda_multi_ro = np.sort(dda_multi)[::-1]\n",
    "mete_multi_ro = np.sort(mete_multi)[::-1]\n",
    "# METE\n",
    "ax.plot(x,mete_multi_ro,label='METE')\n",
    "# Binomial\n",
    "ax.plot(x,bi_multi_ro,label='RP')\n",
    "# Density dependent\n",
    "ax.plot(x,dda_multi_ro,'--',label=r'$\\alpha$ = {}'.format(al))\n",
    "\n",
    "\n",
    "# Prettify\n",
    "ax.set_xlim(0,x[-1])\n",
    "ax.set_ylim(-0.03,1.03)\n",
    "ax.set_xlabel('Rank')\n",
    "ax.set_ylabel('Fraction in bottom')\n",
    "ax.legend()\n",
    "# 5 stands for bci5 data\n",
    "plt.savefig('BCIcomp_5.pdf',format='pdf',bbox_inches='tight')\n",
    "plt.savefig('Manuscript/BCIro_5.eps',format='eps',bbox_inches='tight')\n",
    "plt.savefig('Manuscript/BCIro_5.pdf',format='pdf',bbox_inches='tight')\n",
    "plt.show()"
   ]
  },
  {
   "cell_type": "code",
   "execution_count": 16,
   "metadata": {},
   "outputs": [
    {
     "data": {
      "image/png": "[encoded data removed]",
      "text/plain": [
       "<Figure size 288x216 with 1 Axes>"
      ]
     },
     "metadata": {
      "needs_background": "light"
     },
     "output_type": "display_data"
    }
   ],
   "source": [
    "# NB: MUST RUN ABOVE CELL BEFORE THIS ONE\n",
    "\n",
    "# To help explain why this a problematic way of doing it (with the rank ordering), let's use colors.\n",
    "# Darker points have large n0\n",
    "fig,ax = plt.subplots(figsize=(4,3))\n",
    "args = np.argsort(f10['frac'].sort_values(ascending=False))[::-1]\n",
    "\n",
    "# BCI\n",
    "ax.scatter(x,f10['frac'].sort_values(ascending=False),c=np.log10(f10['n0'].sort_values(ascending=False))[args],\n",
    "           cmap=plt.get_cmap('Greys'),marker='.',alpha=0.7,zorder=10,label='BCI')\n",
    "# METE\n",
    "ax.scatter(x,mete_multi_ro,c=np.log10(f10['n0'].sort_values(ascending=False))[mete_args],\n",
    "           cmap=plt.get_cmap('Blues'),marker='.',label='METE')\n",
    "# Binomial\n",
    "ax.scatter(x,bi_multi_ro,c=np.log10(f10['n0'].sort_values(ascending=False))[bi_args],\n",
    "           cmap=plt.get_cmap('Oranges'),marker='.',label='RP')\n",
    "# Density dependent\n",
    "ax.scatter(x,dda_multi_ro,c=np.log10(f10['n0'].sort_values(ascending=False))[dda_args],\n",
    "           cmap=plt.get_cmap('Greens'),marker='.',zorder=0,label=r'$\\alpha$ = {}'.format(al))\n",
    "\n",
    "\n",
    "ax.set_xlabel('Rank')\n",
    "ax.set_ylabel('Fraction in bottom')\n",
    "ax.legend()\n",
    "legend = ax.get_legend()\n",
    "legend.legendHandles[0].set_color(plt.cm.Greys(.8))\n",
    "legend.legendHandles[1].set_color(plt.cm.Blues(.8))\n",
    "legend.legendHandles[2].set_color(plt.cm.Oranges(.8))\n",
    "legend.legendHandles[3].set_color(plt.cm.Greens(.8))\n",
    "\n",
    "ax.set_xlim(0,x[-1])\n",
    "ax.set_ylim(-0.03,1.03)\n",
    "\n",
    "plt.savefig('BCIcomp_5_heat.pdf',format='pdf',bbox_inches='tight')\n",
    "plt.savefig('Manuscript/BCIro_5_heat.eps',format='eps',bbox_inches='tight')\n",
    "plt.savefig('Manuscript/BCIro_5_heat.pdf',format='pdf',bbox_inches='tight')\n",
    "plt.show()"
   ]
  },
  {
   "cell_type": "code",
   "execution_count": 25,
   "metadata": {},
   "outputs": [
    {
     "data": {
      "image/png": "[encoded data removed]",
      "text/plain": [
       "<Figure size 288x108 with 1 Axes>"
      ]
     },
     "metadata": {
      "needs_background": "light"
     },
     "output_type": "display_data"
    }
   ],
   "source": [
    "# Try plotting these lines with only the trends rather than overlapping so we can see the difference:\n",
    "# NB: MUST RUN ABOVE CELL BEFORE THIS ONE\n",
    "\n",
    "# To help explain why this a problematic way of doing it (with the rank ordering), let's use colors.\n",
    "# Darker points have large n0\n",
    "fig,ax = plt.subplots(figsize=(4,1.5))\n",
    "args = np.argsort(f10['frac'].sort_values(ascending=False))[::-1]\n",
    "\n",
    "# BCI\n",
    "ax.scatter(x,[4]*s0,c=np.log10(f10['n0'].sort_values(ascending=False))[args],\n",
    "           cmap=plt.get_cmap('Greys'),marker='.',alpha=0.7,zorder=10,label='BCI')\n",
    "# METE\n",
    "ax.scatter(x,[3]*s0,c=np.log10(f10['n0'].sort_values(ascending=False))[mete_args],\n",
    "           cmap=plt.get_cmap('Blues'),marker='.',label='METE')\n",
    "# Binomial\n",
    "ax.scatter(x,[2]*s0,c=np.log10(f10['n0'].sort_values(ascending=False))[bi_args],\n",
    "           cmap=plt.get_cmap('Oranges'),marker='.',label='RP')\n",
    "# Density dependent\n",
    "ax.scatter(x,[1]*s0,c=np.log10(f10['n0'].sort_values(ascending=False))[dda_args],\n",
    "           cmap=plt.get_cmap('Greens'),marker='.',zorder=0,label=r'$\\alpha$ = {}'.format(al))\n",
    "\n",
    "\n",
    "ax.set_xlabel('Rank')\n",
    "ax.set_yticks([1,2,3,4])\n",
    "ax.set_yticklabels([r'$\\alpha$ = {}'.format(al),'RP','METE','BCI'])\n",
    "#ax.set_ylabel('Fraction in bottom')\n",
    "#ax.legend()\n",
    "#legend = ax.get_legend()\n",
    "#legend.legendHandles[0].set_color(plt.cm.Greys(.8))\n",
    "#legend.legendHandles[1].set_color(plt.cm.Blues(.8))\n",
    "#legend.legendHandles[2].set_color(plt.cm.Oranges(.8))\n",
    "#legend.legendHandles[3].set_color(plt.cm.Greens(.8))\n",
    "\n",
    "ax.set_xlim(0,x[-1])\n",
    "ax.set_ylim(0.5,4.5)\n",
    "\n",
    "plt.savefig('BCIcomp_5_heat_lines.pdf',format='pdf',bbox_inches='tight')\n",
    "plt.savefig('Manuscript/BCIro_5_heat_lines.eps',format='eps',bbox_inches='tight')\n",
    "plt.savefig('Manuscript/BCIro_5_heat_lines.pdf',format='pdf',bbox_inches='tight')\n",
    "plt.show()"
   ]
  },
  {
   "cell_type": "code",
   "execution_count": 98,
   "metadata": {},
   "outputs": [
    {
     "name": "stdout",
     "output_type": "stream",
     "text": [
      "METE: 728.7097286584712\n",
      "Binomial: 963.0670787863634\n",
      "a=1.4: 718.4085815556849\n",
      "a=1.12: 659.8470719009746\n"
     ]
    }
   ],
   "source": [
    "# Calculate log likelihoods for manuscript table\n",
    "mete_ll = 0.\n",
    "bi_ll = 0.\n",
    "dd14_ll = 0.\n",
    "dd112_ll = 0.\n",
    "for i,n in enumerate(f10['n0'].values):\n",
    "    ni = int(np.around(f10['frac'][i]*n))\n",
    "    mete_ll += -np.log(1/(n+1))\n",
    "    bi_ll += -np.log(st.binom.pmf(ni,n,p=0.5))\n",
    "    dd14_ll += -np.log(dd.dd_prob(n,1.4)[ni])\n",
    "    dd112_ll += -np.log(dd.dd_prob(n,1.12)[ni])\n",
    "print('METE: {}'.format(mete_ll))\n",
    "print('Binomial: {}'.format(bi_ll))\n",
    "print('a=1.4: {}'.format(dd14_ll))\n",
    "print('a=1.12: {}'.format(dd112_ll))"
   ]
  },
  {
   "cell_type": "markdown",
   "metadata": {},
   "source": [
    "# Get $\\alpha$"
   ]
  },
  {
   "cell_type": "code",
   "execution_count": 4,
   "metadata": {},
   "outputs": [],
   "source": [
    "# Get bestfit alpha to put in contours:\n",
    "al10 = minimize_scalar(dd.loglikelihood,bounds=(0.8,1.5),method='bounded',\n",
    "                args=(np.rint(f10['frac']*f10['n0']).astype(int),f10['n0']))"
   ]
  },
  {
   "cell_type": "code",
   "execution_count": 5,
   "metadata": {},
   "outputs": [
    {
     "data": {
      "text/plain": [
       "     fun: 659.837902607894\n",
       " message: 'Solution found.'\n",
       "    nfev: 12\n",
       "  status: 0\n",
       " success: True\n",
       "       x: 1.1224099629374666"
      ]
     },
     "execution_count": 5,
     "metadata": {},
     "output_type": "execute_result"
    }
   ],
   "source": [
    "al10"
   ]
  },
  {
   "cell_type": "code",
   "execution_count": 19,
   "metadata": {},
   "outputs": [
    {
     "name": "stdout",
     "output_type": "stream",
     "text": [
      "659.837902607894\n",
      "728.7097286584718\n",
      "963.0670787863642\n",
      "p-value: 0.0\n"
     ]
    }
   ],
   "source": [
    "# Compare to other models and make sure it's working:\n",
    "print(dd.loglikelihood(al10.x,np.rint(f10['frac']*f10['n0']).astype(int),f10['n0']))\n",
    "# METE\n",
    "print(-np.sum(np.log(1/(f10['n0']+1))))\n",
    "# RP\n",
    "print(-np.sum(st.binom.logpmf(np.rint(f10['frac']*f10['n0']).astype(int),f10['n0'], 0.5)))\n",
    "print(\"p-value: {}\".format(\n",
    "  1-st.chi2.cdf(2*(-np.sum(np.log(1/(f10['n0']+1)))-dd.loglikelihood(\n",
    "      al10.x,np.rint(f10['frac']*f10['n0']).astype(int),f10['n0'])),1)))"
   ]
  },
  {
   "cell_type": "code",
   "execution_count": 6,
   "metadata": {},
   "outputs": [],
   "source": [
    "al1 = minimize_scalar(dd.loglikelihood,bounds=(0.9,1.2),method='bounded',\n",
    "                args=(np.rint(f1['frac']*f1['n0']).astype(int),f1['n0']))"
   ]
  },
  {
   "cell_type": "code",
   "execution_count": 7,
   "metadata": {},
   "outputs": [
    {
     "data": {
      "text/plain": [
       "     fun: 1234.9807018892106\n",
       " message: 'Solution found.'\n",
       "    nfev: 13\n",
       "  status: 0\n",
       " success: True\n",
       "       x: 1.0210606414921735"
      ]
     },
     "execution_count": 7,
     "metadata": {},
     "output_type": "execute_result"
    }
   ],
   "source": [
    "al1"
   ]
  },
  {
   "cell_type": "code",
   "execution_count": 17,
   "metadata": {},
   "outputs": [
    {
     "name": "stdout",
     "output_type": "stream",
     "text": [
      "1234.9807018892106\n",
      "1323.6537418391704\n",
      "4377.78872951978\n"
     ]
    }
   ],
   "source": [
    "# Compare to other models:\n",
    "print(dd.loglikelihood(al1.x,np.rint(f1['frac']*f1['n0']).astype(int),f1['n0']))\n",
    "# METE\n",
    "print(-np.sum(np.log(1/(f1['n0']+1))))\n",
    "# RP\n",
    "print(-np.sum(st.binom.logpmf(np.rint(f1['frac']*f1['n0']).astype(int),f1['n0'], 0.5)))"
   ]
  },
  {
   "cell_type": "markdown",
   "metadata": {},
   "source": [
    "# Contour data"
   ]
  },
  {
   "cell_type": "code",
   "execution_count": 33,
   "metadata": {},
   "outputs": [],
   "source": [
    "# Get 95% contour information\n",
    "pc = 0.05 # 95 percent contour\n",
    "\n",
    "# Using dd_functions for METE:\n",
    "abund10 = bciA['sp'].value_counts()\n",
    "nmax = abund10[0]\n",
    "logrange,dda_int = dd.contours(al10.x,pc,nmax)\n",
    "# Set up arrays\n",
    "#dda_int = []\n",
    "bi_int = []\n",
    "mete_int = []\n",
    "#c_trim = bciA['sp'].value_counts()\n",
    "#logrange = np.unique(np.logspace(np.log10(c_trim[-1]),np.log10(c_trim[0]),dtype=int)) # No reason to do it twice\n",
    "for n in logrange: # Use max from c_trim, but sample logarithmically\n",
    "    # Density dependence\n",
    "    #dda_cdf_t = np.cumsum(dd_prob(n,al))\n",
    "    #dda_int.append((np.searchsorted(dda_cdf_t,pc/2)/n,np.searchsorted(dda_cdf_t,1-pc/2)/n))\n",
    "    # Test\n",
    "    #print(np.sum(dda_vec(n,al)[dda_int[0]:dda_int[1]]))\n",
    "    #print(dda_cdf_t[dda_int[1]]-dda_cdf_t[dda_int[0]])\n",
    "    # Binomial\n",
    "    bi_int_t = st.binom.interval(1-pc,n,0.5)\n",
    "    bi_int.append((bi_int_t[0]/n,bi_int_t[1]/n))\n",
    "    # Test\n",
    "    #print(np.sum(st.binom.pmf(np.arange(bi_int[0],bi_int[1]),n,0.5)))\n",
    "    #print(st.binom.cdf(bi_int[1],n,0.5)-st.binom.cdf(bi_int[0],n,0.5))\n",
    "    # METE\n",
    "    mete_int.append((np.floor(pc/2*(n+1))/(n+1),np.ceil((1-pc/2)*(n+1))/(n+1)))\n",
    "    # Test\n",
    "    #print((mete_int[1]-mete_int[0])/(n+1))\n"
   ]
  },
  {
   "cell_type": "code",
   "execution_count": 94,
   "metadata": {},
   "outputs": [
    {
     "data": {
      "image/png": "[encoded data removed]",
      "text/plain": [
       "<Figure size 432x216 with 1 Axes>"
      ]
     },
     "metadata": {
      "needs_background": "light"
     },
     "output_type": "display_data"
    }
   ],
   "source": [
    "# Now plot these contour intervals\n",
    "fig,ax = plt.subplots(figsize=(6,3))\n",
    "colors = plt.get_cmap(\"tab10\")\n",
    "# Plot with abundance on x instead of rank ordering\n",
    "bcip = ax.semilogx(abund10.sort_index(),f10['frac'],'o',c=colors(7),alpha=0.7,label='BCI')\n",
    "metep = ax.semilogx(logrange,mete_int,c=colors(0),label='METE')\n",
    "bip = ax.semilogx(logrange,bi_int,c=colors(1),label='RP')\n",
    "alp = ax.semilogx(logrange,dda_int,'--',c=colors(2),label=r'$\\alpha={:.2f}$'.format(al10.x))\n",
    "ax.legend((bcip[0],metep[0],bip[0],alp[0]),('BCI','METE','RP',r'$\\alpha={:.2f}$'.format(al10.x)))\n",
    "ax.set_ylim(0,1)\n",
    "#ax.set_xlim(c_trim[-1],c_trim[0])\n",
    "ax.set_xlim(1,nmax)\n",
    "ax.set_ylabel('Fraction in bisection')\n",
    "ax.set_xlabel(r'Species abundance $n_0$')\n",
    "plt.savefig('Manuscript/Contours.eps',format='eps',bbox_inches='tight')\n",
    "plt.savefig('Manuscript/Contours.pdf',format='pdf',bbox_inches='tight')\n",
    "plt.savefig('Contours_2005_10cm.pdf',format='pdf',bbox_inches='tight')"
   ]
  },
  {
   "cell_type": "code",
   "execution_count": 19,
   "metadata": {},
   "outputs": [],
   "source": [
    "# So it looks like there are fewer points outside of the contours!"
   ]
  },
  {
   "cell_type": "code",
   "execution_count": 38,
   "metadata": {},
   "outputs": [],
   "source": [
    "# Let's double check these for 1cm\n",
    "\n",
    "# Using dd_functions for METE:\n",
    "abund1 = bciA1['sp'].value_counts()\n",
    "nmax1 = abund1[0]\n",
    "logrange1,dda1_int = dd.contours(al1.x,pc,nmax1)\n",
    "# Set up arrays\n",
    "#dda_int = []\n",
    "bi1_int = []\n",
    "mete1_int = []\n",
    "for n in logrange1:\n",
    "    bi1_int_t = st.binom.interval(1-pc,n,0.5)\n",
    "    bi1_int.append((bi1_int_t[0]/n,bi1_int_t[1]/n))\n",
    "    mete1_int.append((np.floor(pc/2*(n+1))/(n+1),np.ceil((1-pc/2)*(n+1))/(n+1)))"
   ]
  },
  {
   "cell_type": "code",
   "execution_count": 95,
   "metadata": {},
   "outputs": [
    {
     "data": {
      "image/png": "[encoded data removed]",
      "text/plain": [
       "<Figure size 432x216 with 1 Axes>"
      ]
     },
     "metadata": {
      "needs_background": "light"
     },
     "output_type": "display_data"
    }
   ],
   "source": [
    "# Now plot these contour intervals\n",
    "fig,ax = plt.subplots(figsize=(6,3))\n",
    "colors = plt.get_cmap(\"tab10\")\n",
    "# Plot with abundance on x instead of rank ordering\n",
    "bcip = ax.semilogx(abund1.sort_index(),f1['frac'],'o',c=colors(7),alpha=0.7,label='BCI')\n",
    "bip = ax.semilogx(logrange1,bi1_int,c=colors(1),label='RP')\n",
    "alp = ax.semilogx(logrange1,dda1_int,'--',c=colors(2),label=r'$\\alpha={:.2f}$'.format(al1.x))\n",
    "metep = ax.semilogx(logrange1,mete1_int,c=colors(0),label='METE')\n",
    "ax.legend((bcip[0],metep[0],bip[0],alp[0]),('BCI','METE','RP',r'$\\alpha={:.2f}$'.format(al1.x)))\n",
    "ax.set_ylim(0,1)\n",
    "ax.set_xlim(1,nmax1)\n",
    "ax.set_ylabel('Fraction in bisection')\n",
    "ax.set_xlabel(r'Species abundance $n_0$')\n",
    "plt.savefig('Contours_2005_1cm.pdf',format='pdf',bbox_inches='tight')"
   ]
  },
  {
   "cell_type": "code",
   "execution_count": null,
   "metadata": {},
   "outputs": [],
   "source": []
  }
 ],
 "metadata": {
  "kernelspec": {
   "display_name": "Python 3",
   "language": "python",
   "name": "python3"
  },
  "language_info": {
   "codemirror_mode": {
    "name": "ipython",
    "version": 3
   },
   "file_extension": ".py",
   "mimetype": "text/x-python",
   "name": "python",
   "nbconvert_exporter": "python",
   "pygments_lexer": "ipython3",
   "version": "3.6.8"
  }
 },
 "nbformat": 4,
 "nbformat_minor": 2
}
