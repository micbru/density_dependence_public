{
 "cells": [
  {
   "cell_type": "markdown",
   "metadata": {},
   "source": [
    "Showing how to do the contour, box, and line plots from \"Density dependence and a colonization rule predict spatial patterning\". This is Figs. 2, 3 for the serpentine data. The data itself is available on Dryad at https://doi.org/10.6078/D1MQ2V ."
   ]
  },
  {
   "cell_type": "code",
   "execution_count": 1,
   "metadata": {},
   "outputs": [],
   "source": [
    "import dd_functions as dd\n",
    "import numpy as np\n",
    "import pandas as pd\n",
    "from scipy.optimize import minimize_scalar\n",
    "import scipy.stats as st\n",
    "\n",
    "import matplotlib.pyplot as plt\n",
    "import matplotlib.cm as cm\n",
    "%matplotlib inline"
   ]
  },
  {
   "cell_type": "code",
   "execution_count": 2,
   "metadata": {},
   "outputs": [],
   "source": [
    "# Read in data\n",
    "s_loc = 'Location_Of_Serpentine.csv'\n",
    "spd = pd.read_csv(s_loc,dtype='Int64')\n",
    "n0i = spd.sum().astype('Int64')\n",
    "s0 = len(spd.columns)\n",
    "n0 = n0i.sum()"
   ]
  },
  {
   "cell_type": "code",
   "execution_count": 3,
   "metadata": {},
   "outputs": [],
   "source": [
    "# We already have the explicit bisection data (that is the raw data) so just create the fine scale fraction data\n",
    "# The threshold is 128, since that is the smallest bisection we will use.\n",
    "fr = dd.create_f(spd.T,thresh=128)\n",
    "# Get unique species list\n",
    "spl = fr['sp'].unique()"
   ]
  },
  {
   "cell_type": "markdown",
   "metadata": {},
   "source": [
    "# Aggregate $\\alpha$"
   ]
  },
  {
   "cell_type": "code",
   "execution_count": 4,
   "metadata": {},
   "outputs": [],
   "source": [
    "# Get the preferred alpha value:\n",
    "# Our bounds are TIGHT because this is sharply peaked around 1.0\n",
    "al_ag = minimize_scalar(dd.loglikelihood,bounds=(0.9,1.1),method='bounded',\n",
    "                args=(spd[0:128].sum().values.astype(int),n0i))"
   ]
  },
  {
   "cell_type": "code",
   "execution_count": 5,
   "metadata": {},
   "outputs": [
    {
     "data": {
      "text/plain": [
       "     fun: 114.55677203242222\n",
       " message: 'Solution found.'\n",
       "    nfev: 19\n",
       "  status: 0\n",
       " success: True\n",
       "       x: 1.000307007635585"
      ]
     },
     "execution_count": 5,
     "metadata": {},
     "output_type": "execute_result"
    }
   ],
   "source": [
    "# Basically prefers METE\n",
    "al_ag"
   ]
  },
  {
   "cell_type": "code",
   "execution_count": 6,
   "metadata": {},
   "outputs": [
    {
     "name": "stdout",
     "output_type": "stream",
     "text": [
      "114.55677203242222\n",
      "114.84688115523167\n",
      "5188.5652342625945\n",
      "p-value: 0.446\n"
     ]
    }
   ],
   "source": [
    "# Compare likelihoods:\n",
    "# Density dependent\n",
    "print(dd.loglikelihood(al_ag.x,spd[0:128].sum().values.astype(int),n0i))\n",
    "# METE\n",
    "print(-np.sum(np.log(1/(n0i+1))))\n",
    "# Random Placement\n",
    "print(-np.sum(st.binom.logpmf(spd[0:128].sum().astype(int), n0i.astype(int), 0.5)))\n",
    "# Can get deviance as |mete-density dependent|*2, then use this as the argument for a chi^2 distribution\n",
    "# with one extra parameter (k=1). Then 1-CDF gives a p-value.\n",
    "print(\"p-value: {:.3f}\".format(\n",
    "  1-st.chi2.cdf(2*(-np.sum(np.log(1/(n0i+1)))-dd.loglikelihood(al_ag.x,spd[0:128].sum().values.astype(int),n0i)),1)))"
   ]
  },
  {
   "cell_type": "markdown",
   "metadata": {},
   "source": [
    "## Contours"
   ]
  },
  {
   "cell_type": "code",
   "execution_count": 7,
   "metadata": {},
   "outputs": [],
   "source": [
    "# Get contour intervals\n",
    "pc=0.05 # Want 95% contour intervals\n",
    "nmax = max(n0i)\n",
    "logrange,dda_int = dd.contours(al_ag.x,pc,nmax)\n",
    "# Set up arrays for other distributions\n",
    "bi_int = []\n",
    "mete_int = []\n",
    "for n in logrange:\n",
    "    bi_int_t = st.binom.interval(1-pc,n,0.5)\n",
    "    bi_int.append((bi_int_t[0]/n,bi_int_t[1]/n))\n",
    "    mete_int.append((np.floor(pc/2*(n+1))/(n+1),np.ceil((1-pc/2)*(n+1))/(n+1)))"
   ]
  },
  {
   "cell_type": "code",
   "execution_count": 8,
   "metadata": {},
   "outputs": [
    {
     "data": {
      "image/png": "[encoded data removed]",
      "text/plain": [
       "<Figure size 432x216 with 1 Axes>"
      ]
     },
     "metadata": {
      "needs_background": "light"
     },
     "output_type": "display_data"
    }
   ],
   "source": [
    "# Now plot these contour intervals\n",
    "fig,ax = plt.subplots(figsize=(6,3))\n",
    "colors = plt.get_cmap(\"tab10\")\n",
    "# Plot with abundance on x instead of rank ordering\n",
    "# At the single bisection level, we can just sum the first 128 entries:\n",
    "full_fr = (spd[0:128].sum()/n0i)\n",
    "sptp = ax.semilogx(np.array(n0i.values),full_fr.values,'o',c=colors(7),alpha=0.7,label='Serpentine')\n",
    "metep = ax.semilogx(logrange,mete_int,c=colors(0),label='METE')\n",
    "bip = ax.semilogx(logrange,bi_int,c=colors(1),label='RP')\n",
    "alp = ax.semilogx(logrange,dda_int,'--',c=colors(2),label=r'$\\alpha={:.4f}$'.format(al_ag.x))\n",
    "ax.legend((sptp[0],metep[0],bip[0],alp[0]),('Serpentine','METE','RP',r'$\\alpha={:.4f}$'.format(al_ag.x)))\n",
    "ax.set_ylim(0,1)\n",
    "ax.set_xlim(1,nmax)\n",
    "ax.set_ylabel('Fraction in bisection')\n",
    "ax.set_xlabel(r'Species abundance $n_0$')\n",
    "fig_name = 'FigureFilename.pdf'\n",
    "plt.savefig(fig_name,format='pdf',bbox_inches='tight')"
   ]
  },
  {
   "cell_type": "markdown",
   "metadata": {},
   "source": [
    "# Individual species at different scales"
   ]
  },
  {
   "cell_type": "code",
   "execution_count": 9,
   "metadata": {},
   "outputs": [],
   "source": [
    "# Create fractions for eaach species\n",
    "# Keep threshold at 128 everywhere\n",
    "th = 128\n",
    "# Divide into 2x2\n",
    "inds4 = (spd.index//128*2+spd.index//8%2)\n",
    "sfr4 = dd.create_f(spd.groupby(inds4).sum().T,thresh=th)\n",
    "# Divide into 2x4\n",
    "inds8 = (spd.index//64*2+spd.index//8%2)\n",
    "sfr8 = dd.create_f(spd.groupby(inds8).sum().T,thresh=th)\n",
    "# Divide into 4x4\n",
    "inds16 = (spd.index//64*4+spd.index//4%4)\n",
    "sfr16 = dd.create_f(spd.groupby(inds16).sum().T,thresh=th)\n",
    "# Divide into 4x8\n",
    "inds32 = (spd.index//32*4+spd.index//4%4)\n",
    "sfr32 = dd.create_f(spd.groupby(inds32).sum().T,thresh=th)\n",
    "# Divide into 8x8\n",
    "inds64 = (spd.index//32*8+spd.index//2%8) # I think this is taking the nearest 4 cells and summing them together\n",
    "sfr64 = dd.create_f(spd.groupby(inds64).sum().T,thresh=th)\n",
    "# Divide into 8x16, so sum adjacent plots then compare.\n",
    "sfr128 = dd.create_f(spd.groupby(spd.index//2).sum().T,thresh=th)\n",
    "# Divide into 16x16\n",
    "sfr256 = dd.create_f(spd.T,thresh=th)"
   ]
  },
  {
   "cell_type": "code",
   "execution_count": 10,
   "metadata": {},
   "outputs": [],
   "source": [
    "# Start at 2x4, which is 3 points.\n",
    "sp_al = np.zeros([len(spl),6]) # six is the number of scales\n",
    "# For every species, get alpha at each scale.\n",
    "for i,sp in enumerate(spl):\n",
    "    # 2x4\n",
    "    sal8 = minimize_scalar(dd.loglikelihood,bounds=(0.8,1.5),method='bounded',\n",
    "                    args=(np.rint(sfr8[sfr8['sp']==sp]['frac']*sfr8[sfr8['sp']==sp]['n0']).astype(int),\n",
    "                          sfr8[sfr8['sp']==sp]['n0']))\n",
    "    # 4x4\n",
    "    sal16 = minimize_scalar(dd.loglikelihood,bounds=(0.8,2.),method='bounded',\n",
    "                    args=(np.rint(sfr16[sfr16['sp']==sp]['frac']*sfr16[sfr16['sp']==sp]['n0']).astype(int),\n",
    "                          sfr16[sfr16['sp']==sp]['n0']))\n",
    "    # 4x8\n",
    "    sal32 = minimize_scalar(dd.loglikelihood,bounds=(0.8,2.),method='bounded',\n",
    "                    args=(np.rint(sfr32[sfr32['sp']==sp]['frac']*sfr32[sfr32['sp']==sp]['n0']).astype(int),\n",
    "                          sfr32[sfr32['sp']==sp]['n0']))\n",
    "    # 8x8\n",
    "    sal64 = minimize_scalar(dd.loglikelihood,bounds=(0.8,2.),method='bounded',\n",
    "                    args=(np.rint(sfr64[sfr64['sp']==sp]['frac']*sfr64[sfr64['sp']==sp]['n0']).astype(int),\n",
    "                          sfr64[sfr64['sp']==sp]['n0']))\n",
    "    # 8x16\n",
    "    sal128 = minimize_scalar(dd.loglikelihood,bounds=(0.8,2.),method='bounded',\n",
    "                    args=(np.rint(sfr128[sfr128['sp']==sp]['frac']*sfr128[sfr128['sp']==sp]['n0']).astype(int),\n",
    "                          sfr128[sfr128['sp']==sp]['n0']))\n",
    "    # 16x16\n",
    "    sal256 = minimize_scalar(dd.loglikelihood,bounds=(0.8,2.),method='bounded',\n",
    "                    args=(np.rint(sfr256[sfr256['sp']==sp]['frac']*sfr256[sfr256['sp']==sp]['n0']).astype(int),\n",
    "                          sfr256[sfr256['sp']==sp]['n0']))\n",
    "    sp_al[i,:] = [sal8.x,sal16.x,sal32.x,sal64.x,sal128.x,sal256.x]"
   ]
  },
  {
   "cell_type": "code",
   "execution_count": 11,
   "metadata": {},
   "outputs": [],
   "source": [
    "# Make a dataframe with these results\n",
    "frac_a =[1/2**n for n in np.arange(3,9)] \n",
    "df_c = pd.DataFrame(sp_al,index=spl,columns = np.log2(frac_a))"
   ]
  },
  {
   "cell_type": "code",
   "execution_count": 12,
   "metadata": {},
   "outputs": [],
   "source": [
    "# Don't plot 'EN' in the next few as we exclude it as an outlier"
   ]
  },
  {
   "cell_type": "code",
   "execution_count": 13,
   "metadata": {},
   "outputs": [
    {
     "data": {
      "image/png": "[encoded data removed]",
      "text/plain": [
       "<Figure size 288x216 with 1 Axes>"
      ]
     },
     "metadata": {
      "needs_background": "light"
     },
     "output_type": "display_data"
    }
   ],
   "source": [
    "# Boxplots\n",
    "fig,ax=plt.subplots(figsize=(4,3))\n",
    "df_c.drop('EN').iloc[:, ::-1].plot(ax=ax,kind='box')\n",
    "ax.set_ylabel(r'$\\alpha$')\n",
    "ax.set_xlabel(r'$\\log_2$(Fractional Area)')\n",
    "fig_name2 = 'FigureFilename.pdf'\n",
    "plt.savefig(fig_name2,format='pdf',bbox_inches='tight')\n",
    "plt.show()"
   ]
  },
  {
   "cell_type": "code",
   "execution_count": 14,
   "metadata": {},
   "outputs": [
    {
     "data": {
      "image/png": "[encoded data removed]",
      "text/plain": [
       "<Figure size 288x216 with 1 Axes>"
      ]
     },
     "metadata": {
      "needs_background": "light"
     },
     "output_type": "display_data"
    }
   ],
   "source": [
    "# Plot them all as lines:\n",
    "fig,ax=plt.subplots(figsize=(4,3))\n",
    "colors = cm.get_cmap('Greys')\n",
    "n0max = max(n0i)\n",
    "for sp in spl:\n",
    "    if sp != 'EN':\n",
    "        df_c.loc[sp].T.plot(ax=ax,c=colors(n0i[sp]/n0max),label=sp)\n",
    "# if you want a legend, uncomment.\n",
    "#ax.legend(ncol=2)\n",
    "ax.set_xlabel(r'$\\log_2$(Fractional Area)')\n",
    "ax.set_ylabel(r'$\\alpha$')\n",
    "fig_name3 = 'FigureFilename.pdf'\n",
    "plt.savefig(fig_name3,format='pdf',bbox_inches='tight')\n",
    "plt.show()"
   ]
  }
 ],
 "metadata": {
  "kernelspec": {
   "display_name": "Python 3",
   "language": "python",
   "name": "python3"
  },
  "language_info": {
   "codemirror_mode": {
    "name": "ipython",
    "version": 3
   },
   "file_extension": ".py",
   "mimetype": "text/x-python",
   "name": "python",
   "nbconvert_exporter": "python",
   "pygments_lexer": "ipython3",
   "version": "3.6.13"
  }
 },
 "nbformat": 4,
 "nbformat_minor": 2
}
